{
 "cells": [
  {
   "cell_type": "code",
   "execution_count": null,
   "id": "24ab75a7",
   "metadata": {},
   "outputs": [],
   "source": [
    "from pymongo.mongo_client import MongoClient\n",
    "from urllib.parse import quote_plus\n",
    "\n",
    "uri = \"\"\n",
    "# Create a new client and connect to the server\n",
    "client = MongoClient(uri)"
   ]
  },
  {
   "cell_type": "code",
   "execution_count": 8,
   "id": "a32e90c5",
   "metadata": {},
   "outputs": [],
   "source": [
    "database=client[\"youtubecomunity\"]"
   ]
  },
  {
   "cell_type": "code",
   "execution_count": 9,
   "id": "b759d65a",
   "metadata": {},
   "outputs": [],
   "source": [
    "collection=database[\"session\"]"
   ]
  },
  {
   "cell_type": "code",
   "execution_count": 10,
   "id": "99dfcc1d",
   "metadata": {},
   "outputs": [],
   "source": [
    "data={\n",
    "\n",
    "    \"coursename\":\"genai\",\n",
    "    \"instrutorname\":\"sunny\",\n",
    "    \"modeofsession\":\"english\"\n",
    "}"
   ]
  },
  {
   "cell_type": "code",
   "execution_count": 11,
   "id": "f0127b94",
   "metadata": {},
   "outputs": [
    {
     "data": {
      "text/plain": [
       "{'coursename': 'genai', 'instrutorname': 'sunny', 'modeofsession': 'english'}"
      ]
     },
     "execution_count": 11,
     "metadata": {},
     "output_type": "execute_result"
    }
   ],
   "source": [
    "data"
   ]
  },
  {
   "cell_type": "code",
   "execution_count": 12,
   "id": "fdb0c41d",
   "metadata": {},
   "outputs": [
    {
     "data": {
      "text/plain": [
       "InsertOneResult(ObjectId('687f2fa459fa44ce11e87a1a'), acknowledged=True)"
      ]
     },
     "execution_count": 12,
     "metadata": {},
     "output_type": "execute_result"
    }
   ],
   "source": [
    "collection.insert_one(data)"
   ]
  },
  {
   "cell_type": "code",
   "execution_count": 13,
   "id": "705aebfe",
   "metadata": {},
   "outputs": [],
   "source": [
    "all_record=collection.find()"
   ]
  },
  {
   "cell_type": "code",
   "execution_count": 14,
   "id": "27b41a51",
   "metadata": {},
   "outputs": [
    {
     "name": "stdout",
     "output_type": "stream",
     "text": [
      "{'_id': ObjectId('687f2fa459fa44ce11e87a1a'), 'coursename': 'genai', 'instrutorname': 'sunny', 'modeofsession': 'english'}\n"
     ]
    }
   ],
   "source": [
    "for record in all_record:\n",
    "    print(record)"
   ]
  },
  {
   "cell_type": "code",
   "execution_count": 15,
   "id": "9c0764cd",
   "metadata": {},
   "outputs": [
    {
     "data": {
      "text/plain": [
       "InsertManyResult([ObjectId('687f308259fa44ce11e87a1b'), ObjectId('687f308259fa44ce11e87a1c')], acknowledged=True)"
      ]
     },
     "execution_count": 15,
     "metadata": {},
     "output_type": "execute_result"
    }
   ],
   "source": [
    "collection.insert_many(\n",
    "    [\n",
    "        {\n",
    "\n",
    "    \"coursename\":\"genai\",\n",
    "    \"instrutorname\":\"sunny\",\n",
    "    \"modeofsession\":\"english\"\n",
    "},\n",
    "\n",
    "{\n",
    "\n",
    "    \"coursename\":\"mlops\",\n",
    "    \"instrutorname\":\"sunnysavita\",\n",
    "    \"modeofsession\":\"english&hindi\"\n",
    "}\n",
    "        \n",
    "    ]\n",
    ")"
   ]
  },
  {
   "cell_type": "code",
   "execution_count": 16,
   "id": "1df3dce4",
   "metadata": {},
   "outputs": [],
   "source": [
    "class mongodb_operation:\n",
    "\n",
    "    def __init__(self,client_url: str, database_name: str, collection_name: str=None):\n",
    "        self.client_url=client_url\n",
    "        self.database_name=database_name\n",
    "        self.collection_name=collection_name\n",
    "\n",
    "    def create_client(self):\n",
    "        client=MongoClient(self.client_url)\n",
    "        return client\n",
    "\n",
    "\n",
    "    def create_database(self):\n",
    "        client=self.create_client()\n",
    "        database=client[self.database_name]\n",
    "        return database\n",
    "        \n",
    "    def create_collection(self,collection=None):\n",
    "        database=self.create_database()\n",
    "        collection=database[collection]\n",
    "        return collection\n",
    "\n",
    "    def insert_record(self,record:dict,collection_name:str):\n",
    "        if type(record)==list:\n",
    "            for data in record:\n",
    "                if type(data)!= dict:\n",
    "                    raise TypeError(\"record must be in the dict\")\n",
    "            collection=self.create_collection(collection_name)\n",
    "            collection.insert_many(record)\n",
    "        elif type(record)==dict:\n",
    "            collection=self.create_collection(collection_name)\n",
    "            collection.insert_one(record)\n",
    "\n",
    "    def bulk_insert(self,datafile:str,collection_name:str=None):\n",
    "        self.path=datafile\n",
    "\n",
    "        if self.path.endswith('.csv'):\n",
    "            data=pd.read_csv(self.path,encoding='utf-8')\n",
    "\n",
    "        elif self.path.endswith('.xlsx'):\n",
    "            data=pd.read_excel(self.path,encoding='utf-8')\n",
    "            \n",
    "        datajson=json.loads(data.to_json(orient='record'))\n",
    "        collection=self.create_collection()\n",
    "        collection.insert_many(datajson)"
   ]
  },
  {
   "cell_type": "code",
   "execution_count": null,
   "id": "c80b1142",
   "metadata": {},
   "outputs": [],
   "source": [
    "#call the mongodb connection \n",
    "client_url =  \"\"\n",
    "database = \"mynewdatabase\"\n",
    "collection_name = \"myoldcolumn\""
   ]
  },
  {
   "cell_type": "code",
   "execution_count": 18,
   "id": "49d7d9aa",
   "metadata": {},
   "outputs": [],
   "source": [
    "mongo=mongodb_operation(client_url,database,collection_name)"
   ]
  },
  {
   "cell_type": "code",
   "execution_count": 19,
   "id": "9bfce159",
   "metadata": {},
   "outputs": [],
   "source": [
    "mongo.insert_record({\"name\":\"sunny\",\"designation\":\"data scientist\",\"salary\":\"10k\"},collection_name)"
   ]
  },
  {
   "cell_type": "code",
   "execution_count": 20,
   "id": "0155ff51",
   "metadata": {},
   "outputs": [],
   "source": [
    "mongo.insert_record([{\"name\":\"sunny\",\"designation\":\"data scientist\",\"salary\":\"10k\"},\n",
    "{\"name\":\"sudhanshu\",\"designation\":\"sr. data scientist\",\"salary\":\"150k\"},\n",
    "{\"name\":\"krish\",\"designation\":\"lead data scientist\",\"salary\":\"70k\"}\n",
    "],collection_name)"
   ]
  },
  {
   "cell_type": "code",
   "execution_count": null,
   "id": "61086759",
   "metadata": {},
   "outputs": [],
   "source": []
  }
 ],
 "metadata": {
  "kernelspec": {
   "display_name": "Python 3",
   "language": "python",
   "name": "python3"
  },
  "language_info": {
   "codemirror_mode": {
    "name": "ipython",
    "version": 3
   },
   "file_extension": ".py",
   "mimetype": "text/x-python",
   "name": "python",
   "nbconvert_exporter": "python",
   "pygments_lexer": "ipython3",
   "version": "3.10.16"
  }
 },
 "nbformat": 4,
 "nbformat_minor": 5
}
